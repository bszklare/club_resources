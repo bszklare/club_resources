{
 "cells": [
  {
   "cell_type": "markdown",
   "metadata": {},
   "source": [
    "# Intro to Numpy Part 1\n",
    "\n",
    "### Numpy speed demonstration\n",
    "\n",
    "We'll see that using numpy is around 10x faster than basic python, depending on the specific task.\n",
    "First we'll try simply adding a large quantity of numbers together."
   ]
  },
  {
   "cell_type": "code",
   "execution_count": 26,
   "metadata": {},
   "outputs": [],
   "source": [
    "import numpy as np\n",
    "import timeit"
   ]
  },
  {
   "cell_type": "code",
   "execution_count": 30,
   "metadata": {},
   "outputs": [],
   "source": [
    "def normal_add(n):\n",
    "    total = 0\n",
    "    for i in range(1, n+1):\n",
    "        total += i\n",
    "    return total"
   ]
  },
  {
   "cell_type": "code",
   "execution_count": 28,
   "metadata": {},
   "outputs": [],
   "source": [
    "def numpy_add(n):\n",
    "    nums = np.arange(1, n+1)\n",
    "    return np.sum(nums)"
   ]
  },
  {
   "cell_type": "code",
   "execution_count": 37,
   "metadata": {},
   "outputs": [
    {
     "name": "stdout",
     "output_type": "stream",
     "text": [
      "0.05361834300015289\n",
      "0.5262736130000576\n"
     ]
    }
   ],
   "source": [
    "# have to put the functions inside strings because of how timeit works -- not important to remember\n",
    "\n",
    "basic_time = '''\n",
    "def basic_add(n):\n",
    "    total = 0\n",
    "    for i in range(1, n+1):\n",
    "        total += i\n",
    "    return total\n",
    "'''\n",
    "\n",
    "numpy_time = '''\n",
    "import numpy as np\n",
    "\n",
    "def numpy_add(n):\n",
    "    nums = np.arange(1, n+1)\n",
    "    return np.sum(nums)\n",
    "'''\n",
    "\n",
    "print(timeit.timeit('basic_time(10000000)', basic_time, number=1))\n",
    "print(timeit.timeit('numpy_time(10000000)', numpy_time, number=1))"
   ]
  },
  {
   "cell_type": "markdown",
   "metadata": {},
   "source": [
    "Now let's do something more complex--let's try solving an expanded version of an example from last time.\n",
    "\n",
    "Example 1:\n",
    "\n",
    "Say you have an array for which the ith element is the price of a given stock on day i.\n",
    "If you were only permitted to complete at most one transaction (i.e., buy one and sell one share of the stock), design an algorithm to find the maximum profit.\n",
    "Note that you cannot sell a stock before you buy one."
   ]
  },
  {
   "cell_type": "code",
   "execution_count": 40,
   "metadata": {},
   "outputs": [
    {
     "data": {
      "text/plain": [
       "9"
      ]
     },
     "execution_count": 40,
     "metadata": {},
     "output_type": "execute_result"
    }
   ],
   "source": [
    "def basic_solution(prices):\n",
    "    lowest_price = prices[0]\n",
    "    max_profit = 0\n",
    "    for i in range(len(prices)):\n",
    "        if prices[i] < lowest_price:\n",
    "            lowest_price = prices[i]\n",
    "        if prices[i] - lowest_price > max_profit:\n",
    "            max_profit = prices[i] - lowest_price\n",
    "    return max_profit\n",
    "\n",
    "price_list = [1, 5, 2, 10]\n",
    "basic_solution(price_list)\n",
    "        \n",
    "def numpy_solution(prices):\n",
    "    "
   ]
  },
  {
   "cell_type": "code",
   "execution_count": null,
   "metadata": {},
   "outputs": [],
   "source": []
  }
 ],
 "metadata": {
  "kernelspec": {
   "display_name": "Python 3",
   "language": "python",
   "name": "python3"
  },
  "language_info": {
   "codemirror_mode": {
    "name": "ipython",
    "version": 3
   },
   "file_extension": ".py",
   "mimetype": "text/x-python",
   "name": "python",
   "nbconvert_exporter": "python",
   "pygments_lexer": "ipython3",
   "version": "3.7.4"
  }
 },
 "nbformat": 4,
 "nbformat_minor": 2
}
